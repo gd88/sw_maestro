{
 "cells": [
  {
   "cell_type": "markdown",
   "id": "506b22af",
   "metadata": {},
   "source": [
    "## 포탈 수강신청 로그인하고 희망내역으로 들어가기"
   ]
  },
  {
   "cell_type": "markdown",
   "id": "52fc2c42",
   "metadata": {},
   "source": [
    "## 평점 4.4이상의 강좌를 긁어온 것을 토대로 희망신청을 한다. 그리고 정정기간에 수강인원이 다 차 있는 과목들의 빈 자리가 생기면 주워 담는 자동화(수강신청 완료하면 생기는 문구 확인해서 밑에 #부분 채우기)"
   ]
  },
  {
   "cell_type": "code",
   "execution_count": null,
   "id": "761c47aa",
   "metadata": {
    "scrolled": true
   },
   "outputs": [],
   "source": [
    "from selenium import webdriver\n",
    "import time\n",
    "from selenium.webdriver.common.keys import Keys\n",
    "\n",
    "url=\"https://portal.hanyang.ac.kr/sugang/sulg.do\"\n",
    "browser=webdriver.Chrome()\n",
    "browser.get(url)\n",
    "\n",
    "time.sleep(2)\n",
    "\n",
    "# 로그인 클릭\n",
    "browser.find_element_by_xpath('//*[@id=\"btn-user2\"]').click()\n",
    "# 로그인 창으로 접근\n",
    "browser.switch_to.window(browser.window_handles[1])\n",
    "time.sleep(2)\n",
    "# 아이디, 비번 입력하고 로그인\n",
    "login=browser.find_element_by_xpath('//*[@id=\"pop_login\"]/form/div[1]/div/div[1]/fieldset/p[1]/input')\n",
    "login.send_keys(\"rladnjsry837\")\n",
    "pwd=browser.find_element_by_xpath('//*[@id=\"pop_login\"]/form/div[1]/div/div[1]/fieldset/p[2]/input')\n",
    "pwd.send_keys(\"rladnjsry23\")\n",
    "pwd.send_keys(Keys.ENTER)\n",
    "time.sleep(2)\n",
    "browser.switch_to.window(browser.window_handles[0])\n",
    "# 희망수업 클릭\n",
    "browser.find_element_by_xpath('//*[@id=\"snb\"]/ul/li[5]/a').click()\n",
    "time.sleep(2)"
   ]
  },
  {
   "cell_type": "code",
   "execution_count": null,
   "id": "6130b28c",
   "metadata": {
    "scrolled": true
   },
   "outputs": [],
   "source": [
    "time.sleep(1)\n",
    "tbody=browser.find_element_by_xpath('//*[@id=\"gdMain\"]/tbody')\n",
    "time.sleep(1)\n",
    "trs=tbody.find_elements_by_tag_name('tr')\n",
    "print(len(trs))\n",
    "a=0\n",
    "\n",
    "while True:\n",
    "    # 무한루프, 새로고침이 포털에서는 안 되므로 신청내역 클릭했다 다시 희망내역 클릭하기\n",
    "    browser.find_element_by_xpath('//*[@id=\"snb\"]/ul/li[6]/a').click()\n",
    "    browser.find_element_by_xpath('//*[@id=\"snb\"]/ul/li[5]/a').click()\n",
    "    # 희망수업 속에서 수강인원만 제한인원이 다른지 확인하고 다른 것이 있으면 클릭\n",
    "    n=0\n",
    "    while n<len(trs):\n",
    "\n",
    "        time.sleep(1)\n",
    "        if trs[n].find_element_by_id('sincheongInwon').text != trs[n].find_element_by_id('jehanInwon').text:\n",
    "            trs[n].find_element_by_id('btn_apply').click()\n",
    "            ## 수강신청 후 시스템 메시지에 뜨는 문구(예인지 확인인지) 확인 후 click()함수 작성 ###\n",
    "            a=1\n",
    "            break\n",
    "        n+=1\n",
    "    ## 자리 빈 과목 주워담았으면 루프 종료: a를 활용\n",
    "    if a==1:\n",
    "        break\n",
    "    time.sleep(1)\n"
   ]
  },
  {
   "cell_type": "code",
   "execution_count": null,
   "id": "9d9a1fa9",
   "metadata": {},
   "outputs": [],
   "source": []
  },
  {
   "cell_type": "code",
   "execution_count": null,
   "id": "a2207d0f",
   "metadata": {},
   "outputs": [],
   "source": []
  },
  {
   "cell_type": "code",
   "execution_count": null,
   "id": "e23f6d96",
   "metadata": {},
   "outputs": [],
   "source": []
  },
  {
   "cell_type": "code",
   "execution_count": null,
   "id": "4d7a995b",
   "metadata": {},
   "outputs": [],
   "source": []
  },
  {
   "cell_type": "code",
   "execution_count": null,
   "id": "da409bc0",
   "metadata": {},
   "outputs": [],
   "source": []
  },
  {
   "cell_type": "code",
   "execution_count": null,
   "id": "b883ef33",
   "metadata": {},
   "outputs": [],
   "source": []
  },
  {
   "cell_type": "code",
   "execution_count": null,
   "id": "b2797f9b",
   "metadata": {},
   "outputs": [],
   "source": []
  }
 ],
 "metadata": {
  "kernelspec": {
   "display_name": "Python 3 (ipykernel)",
   "language": "python",
   "name": "python3"
  },
  "language_info": {
   "codemirror_mode": {
    "name": "ipython",
    "version": 3
   },
   "file_extension": ".py",
   "mimetype": "text/x-python",
   "name": "python",
   "nbconvert_exporter": "python",
   "pygments_lexer": "ipython3",
   "version": "3.9.7"
  }
 },
 "nbformat": 4,
 "nbformat_minor": 5
}
